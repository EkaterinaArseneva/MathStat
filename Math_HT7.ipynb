{
 "cells": [
  {
   "cell_type": "code",
   "execution_count": 1,
   "metadata": {},
   "outputs": [],
   "source": [
    "import numpy as np\n",
    "import scipy.stats as st\n",
    "import pandas as pd"
   ]
  },
  {
   "cell_type": "markdown",
   "metadata": {},
   "source": [
    "#### 1. Даны значения величины заработной платы заемщиков банка (zp) и значения их поведенческого кредитного скоринга (ks): zp = [35, 45, 190, 200, 40, 70, 54, 150, 120, 110], ks = [401, 574, 874, 919, 459, 739, 653, 902, 746, 832]. Используя математические операции, посчитать коэффициенты линейной регрессии, приняв за X заработную плату (то есть, zp - признак), а за y - значения скорингового балла (то есть, ks - целевая переменная). Произвести расчет как с использованием intercept, так и без."
   ]
  },
  {
   "cell_type": "code",
   "execution_count": 2,
   "metadata": {},
   "outputs": [],
   "source": [
    "zp = pd.Series([35, 45, 190, 200, 40, 70, 54, 150, 120, 110])\n",
    "ks = pd.Series([401, 574, 874, 919, 459, 739, 653, 902, 746, 832])"
   ]
  },
  {
   "cell_type": "markdown",
   "metadata": {},
   "source": [
    "1. ks_hat = B*zp\n",
    "2. ks_hat = B0 + B1*zp"
   ]
  },
  {
   "cell_type": "code",
   "execution_count": 42,
   "metadata": {},
   "outputs": [],
   "source": [
    "#1."
   ]
  },
  {
   "cell_type": "code",
   "execution_count": 121,
   "metadata": {},
   "outputs": [],
   "source": [
    "ZP = np.array(zp).reshape((10,1))\n",
    "KS = np.array(ks).reshape((10,1))"
   ]
  },
  {
   "cell_type": "code",
   "execution_count": 128,
   "metadata": {},
   "outputs": [
    {
     "data": {
      "text/plain": [
       "5.889820420132688"
      ]
     },
     "execution_count": 128,
     "metadata": {},
     "output_type": "execute_result"
    }
   ],
   "source": [
    "B = np.dot(np.linalg.inv(np.dot(ZP.T, ZP)), ZP.T@KS)\n",
    "ks_hat1 = zp*B[0][0]\n",
    "B[0][0]"
   ]
  },
  {
   "cell_type": "code",
   "execution_count": 129,
   "metadata": {},
   "outputs": [
    {
     "data": {
      "text/plain": [
       "0     206.143715\n",
       "1     265.041919\n",
       "2    1119.065880\n",
       "3    1177.964084\n",
       "4     235.592817\n",
       "5     412.287429\n",
       "6     318.050303\n",
       "7     883.473063\n",
       "8     706.778450\n",
       "9     647.880246\n",
       "dtype: float64"
      ]
     },
     "execution_count": 129,
     "metadata": {},
     "output_type": "execute_result"
    }
   ],
   "source": [
    "ks_hat1"
   ]
  },
  {
   "attachments": {},
   "cell_type": "markdown",
   "metadata": {},
   "source": [
    "2.\n",
    "$$b = \\frac{\\overline{yx} - \\overline{y} \\cdot {\\overline{x}}}{\\overline{x^2} - (\\overline{x})^2};$$"
   ]
  },
  {
   "cell_type": "markdown",
   "metadata": {},
   "source": [
    "$$a = \\overline{y} - b \\cdot {\\overline{x}}.$$"
   ]
  },
  {
   "cell_type": "code",
   "execution_count": 89,
   "metadata": {},
   "outputs": [],
   "source": [
    "B1 = ((zp*ks).mean()-zp.mean()*ks.mean())/((zp**2).mean()-zp.mean()**2)"
   ]
  },
  {
   "cell_type": "code",
   "execution_count": 90,
   "metadata": {},
   "outputs": [],
   "source": [
    "B0 = ks.mean()-B2*zp.mean()"
   ]
  },
  {
   "cell_type": "code",
   "execution_count": 102,
   "metadata": {},
   "outputs": [
    {
     "data": {
      "text/plain": [
       "(444.1773573243596, 2.620538882402765)"
      ]
     },
     "execution_count": 102,
     "metadata": {},
     "output_type": "execute_result"
    }
   ],
   "source": [
    "B0, B1"
   ]
  },
  {
   "cell_type": "code",
   "execution_count": 103,
   "metadata": {},
   "outputs": [],
   "source": [
    "#option 2\n",
    "ZP = np.hstack([np.ones((10,1)), ZP])"
   ]
  },
  {
   "cell_type": "code",
   "execution_count": 100,
   "metadata": {},
   "outputs": [
    {
     "data": {
      "text/plain": [
       "array([[444.17735732],\n",
       "       [  2.62053888]])"
      ]
     },
     "execution_count": 100,
     "metadata": {},
     "output_type": "execute_result"
    }
   ],
   "source": [
    "B = np.dot(np.linalg.inv(np.dot(ZP.T, ZP)), ZP.T@KS)\n",
    "B"
   ]
  },
  {
   "cell_type": "markdown",
   "metadata": {},
   "source": [
    "#### 2. Посчитать коэффициент линейной регрессии при заработной плате (zp), используя градиентный спуск (без intercept)."
   ]
  },
  {
   "cell_type": "code",
   "execution_count": 104,
   "metadata": {},
   "outputs": [],
   "source": [
    "def get_mse(B1, x=zp, y=ks, n=10):\n",
    "    return np.sum((B1*x-y)**2)/n"
   ]
  },
  {
   "cell_type": "code",
   "execution_count": 119,
   "metadata": {},
   "outputs": [],
   "source": [
    "alpha = 1e-6\n",
    "B1 = 1000\n",
    "n = 10"
   ]
  },
  {
   "cell_type": "code",
   "execution_count": 130,
   "metadata": {},
   "outputs": [
    {
     "name": "stdout",
     "output_type": "stream",
     "text": [
      "Iteration: 0, B1: 5.889820420132705, mse: 56516.8584157194\n",
      "Iteration: 100, B1: 5.889820420132705, mse: 56516.8584157194\n",
      "Iteration: 200, B1: 5.889820420132705, mse: 56516.8584157194\n",
      "Iteration: 300, B1: 5.889820420132705, mse: 56516.8584157194\n",
      "Iteration: 400, B1: 5.889820420132705, mse: 56516.8584157194\n",
      "Iteration: 500, B1: 5.889820420132705, mse: 56516.8584157194\n",
      "Iteration: 600, B1: 5.889820420132705, mse: 56516.8584157194\n",
      "Iteration: 700, B1: 5.889820420132705, mse: 56516.8584157194\n",
      "Iteration: 800, B1: 5.889820420132705, mse: 56516.8584157194\n",
      "Iteration: 900, B1: 5.889820420132705, mse: 56516.8584157194\n"
     ]
    }
   ],
   "source": [
    "for i in range(1000):\n",
    "    B1 -= alpha*(2/n)*np.sum((B1*zp-ks)*zp)\n",
    "    if i%100==0:\n",
    "        print(f'Iteration: {i}, B1: {B1}, mse: {get_mse(B1)}')"
   ]
  },
  {
   "cell_type": "markdown",
   "metadata": {},
   "source": [
    "#### 3.В каких случаях для вычисления доверительных интервалов и проверки статистических гипотез используется таблица значений функции Лапласа, а в каких - таблица критических точек распределения Стьюдента?"
   ]
  },
  {
   "cell_type": "markdown",
   "metadata": {},
   "source": [
    "таблица критических точек распределения Стьюдента используется для сравнения с расчетным значением t критерия. \n"
   ]
  },
  {
   "cell_type": "markdown",
   "metadata": {},
   "source": [
    "таблицу значений функции Лапласа не помню, чтобы использовали.\n"
   ]
  },
  {
   "cell_type": "markdown",
   "metadata": {},
   "source": [
    "#### *4. Произвести вычисления как в пункте 2, но с вычислением intercept. Учесть, что изменение коэффициентов должно производиться на каждом шаге одновременно (то есть изменение одного коэффициента не должно влиять на изменение другого во время одной итерации)."
   ]
  },
  {
   "cell_type": "code",
   "execution_count": 131,
   "metadata": {},
   "outputs": [],
   "source": [
    "def get_mse(B1, B0, x=zp, y=ks, n=10):\n",
    "    return np.sum((B0 + B1*x-y)**2)/n"
   ]
  },
  {
   "cell_type": "code",
   "execution_count": 146,
   "metadata": {},
   "outputs": [],
   "source": [
    "alpha = 1e-6\n",
    "B1 = 500\n",
    "B0 = 500\n",
    "n = 10"
   ]
  },
  {
   "cell_type": "code",
   "execution_count": 148,
   "metadata": {},
   "outputs": [
    {
     "name": "stdout",
     "output_type": "stream",
     "text": [
      "Iteration: 0, B1: 2.4279226268085843, B0: 470.1786126775612, mse: 6641.9293898624\n",
      "Iteration: 1000, B1: 2.461935265283043, B0: 465.5587748404743, mse: 6586.401760397787\n",
      "Iteration: 2000, B1: 2.4956949312022028, B0: 460.9732975303896, mse: 6541.994515385444\n",
      "Iteration: 3000, B1: 2.529203506075883, B0: 456.42192518729615, mse: 6508.466263420429\n",
      "Iteration: 4000, B1: 2.5624628574199924, B0: 451.9044041519354, mse: 6485.579760127231\n",
      "Iteration: 5000, B1: 2.5954748388606075, B0: 447.42048265166505, mse: 6473.101842464559\n",
      "Iteration: 6000, B1: 2.628241290237233, B0: 442.9699107864309, mse: 6470.803364035207\n",
      "Iteration: 7000, B1: 2.6607640377054125, B0: 438.55244051483317, mse: 6478.459131385878\n",
      "Iteration: 8000, B1: 2.6930448938384415, B0: 434.16782564030916, mse: 6495.847841282101\n",
      "Iteration: 9000, B1: 2.7250856577284166, B0: 429.8158217974073, mse: 6522.752018943541\n"
     ]
    }
   ],
   "source": [
    "for i in range(10000):\n",
    "    B11 = B1\n",
    "    B00 = B0\n",
    "    B1 -= alpha*(2/n)*np.sum((B00+B1*zp-ks)*zp)\n",
    "    B0 -= alpha*np.sum(ks-zp*B11)\n",
    "    if i%1000==0:\n",
    "        print(f'Iteration: {i}, B1: {B1}, B0: {B0}, mse: {get_mse(B1, B0)}')"
   ]
  },
  {
   "cell_type": "markdown",
   "metadata": {},
   "source": [
    "Iteration: 6000, B1: 2.628241290237233, B0: 442.9699107864309, mse: 6470.803364035207"
   ]
  },
  {
   "cell_type": "code",
   "execution_count": 149,
   "metadata": {},
   "outputs": [],
   "source": [
    "# не понятно все таки откуда барть первоначальные значения B для бустинга "
   ]
  }
 ],
 "metadata": {
  "kernelspec": {
   "display_name": "Python 3",
   "language": "python",
   "name": "python3"
  },
  "language_info": {
   "codemirror_mode": {
    "name": "ipython",
    "version": 3
   },
   "file_extension": ".py",
   "mimetype": "text/x-python",
   "name": "python",
   "nbconvert_exporter": "python",
   "pygments_lexer": "ipython3",
   "version": "3.7.6"
  }
 },
 "nbformat": 4,
 "nbformat_minor": 4
}
