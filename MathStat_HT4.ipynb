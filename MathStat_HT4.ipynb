{
 "cells": [
  {
   "cell_type": "code",
   "execution_count": 1,
   "metadata": {},
   "outputs": [],
   "source": [
    "import numpy as np\n",
    "import pandas as pd\n",
    "from math import factorial"
   ]
  },
  {
   "cell_type": "markdown",
   "metadata": {},
   "source": [
    "### 1. Случайная непрерывная величина A имеет равномерное распределение на промежутке (200, 800]. Найдите ее среднее значение и дисперсию."
   ]
  },
  {
   "cell_type": "markdown",
   "metadata": {},
   "source": [
    "$$M(X) = \\frac{a + b}{2}$$\n",
    "$$D(X) = \\frac{(b - a)^2}{12}$$"
   ]
  },
  {
   "cell_type": "code",
   "execution_count": 2,
   "metadata": {},
   "outputs": [],
   "source": [
    "a = 200\n",
    "b = 800"
   ]
  },
  {
   "cell_type": "code",
   "execution_count": 3,
   "metadata": {},
   "outputs": [
    {
     "data": {
      "text/plain": [
       "(500.0, 30000.0)"
      ]
     },
     "execution_count": 3,
     "metadata": {},
     "output_type": "execute_result"
    }
   ],
   "source": [
    "M = (a+b)/2\n",
    "D = (b-a)**2/12\n",
    "M, D"
   ]
  },
  {
   "cell_type": "markdown",
   "metadata": {},
   "source": [
    "### 2. О случайной непрерывной равномерно распределенной величине B известно, что ее дисперсия равна 0.2. Можно ли найти правую границу величины B и ее среднее значение зная, что левая граница равна 0.5? Если да, найдите ее."
   ]
  },
  {
   "cell_type": "code",
   "execution_count": 7,
   "metadata": {},
   "outputs": [],
   "source": [
    "D = 0.2"
   ]
  },
  {
   "cell_type": "code",
   "execution_count": 8,
   "metadata": {},
   "outputs": [],
   "source": [
    "a = 0.5"
   ]
  },
  {
   "cell_type": "code",
   "execution_count": 15,
   "metadata": {},
   "outputs": [
    {
     "data": {
      "text/plain": [
       "(2.049193338482967, 0.7745966692414834)"
      ]
     },
     "execution_count": 15,
     "metadata": {},
     "output_type": "execute_result"
    }
   ],
   "source": [
    "b = np.sqrt(D*12) + a\n",
    "M = (b-a)/2\n",
    "b, M"
   ]
  },
  {
   "cell_type": "markdown",
   "metadata": {},
   "source": [
    "### 3. Непрерывная случайная величина X распределена нормально и задана плотностью распределения \n",
    "### f(x) = (1 / (4 * sqrt(2*pi))) * (exp(-(x+2)**2) / 32). \n",
    "### Найдите:\n",
    "#### а). M(X) \n",
    "#### б). D(X) \n",
    "#### в). std(X) (среднее квадратичное отклонение)"
   ]
  },
  {
   "cell_type": "markdown",
   "metadata": {},
   "source": [
    "$$f(x) = \\frac{1}{\\sigma \\sqrt{2 \\pi}} e ^ {- \\frac{(x - a)^2}{2 \\sigma^2}},$$\n"
   ]
  },
  {
   "cell_type": "markdown",
   "metadata": {},
   "source": [
    "$$f(x) = (1 / (4 * sqrt(2*pi))) * (exp(-(x+2)**2) / 32)$$"
   ]
  },
  {
   "cell_type": "code",
   "execution_count": 27,
   "metadata": {},
   "outputs": [],
   "source": [
    "M = -2\n",
    "D = 16\n",
    "std = 4"
   ]
  },
  {
   "cell_type": "markdown",
   "metadata": {},
   "source": [
    "### 4. Рост взрослого населения города X имеет нормальное распределение. Причем, средний рост равен 174 см, а среднее квадратичное отклонение равно 8 см. Какова вероятность того, что случайным образом выбранный взрослый человек имеет рост:\n",
    "#### а). больше 182 см\n",
    "#### б). больше 190 см\n",
    "#### в). от 166 см до 190 см\n",
    "#### г). от 166 см до 182 см\n",
    "#### д). от 158 см до 190 см\n",
    "#### е). не выше 150 см или не ниже 190 см\n",
    "#### ё). не выше 150 см или не ниже 198 см\n",
    "#### ж). ниже 166 см."
   ]
  },
  {
   "cell_type": "markdown",
   "metadata": {},
   "source": [
    "$$f(x) = \\frac{1}{\\sigma \\sqrt{2 \\pi}} e ^ {- \\frac{(x - a)^2}{2 \\sigma^2}},$$\n"
   ]
  },
  {
   "cell_type": "code",
   "execution_count": 33,
   "metadata": {},
   "outputs": [],
   "source": [
    "import scipy.stats as st\n",
    "a = 174\n",
    "std = 8\n"
   ]
  },
  {
   "cell_type": "code",
   "execution_count": 46,
   "metadata": {
    "scrolled": true
   },
   "outputs": [
    {
     "name": "stdout",
     "output_type": "stream",
     "text": [
      " вероятность равна 15.865525393145708%\n"
     ]
    }
   ],
   "source": [
    "# a. больше 182\n",
    "x = 182\n",
    "Z = (x - a)/std\n",
    "print(f' вероятность равна {(1 - st.norm.cdf(Z))*100}%')"
   ]
  },
  {
   "cell_type": "code",
   "execution_count": 47,
   "metadata": {},
   "outputs": [
    {
     "name": "stdout",
     "output_type": "stream",
     "text": [
      " вероятность равна 2.275013194817921%\n"
     ]
    }
   ],
   "source": [
    "# б. больше 190\n",
    "x = 190\n",
    "Z = (x - a)/std\n",
    "print(f' вероятность равна {(1 - st.norm.cdf(Z))*100}%')"
   ]
  },
  {
   "cell_type": "code",
   "execution_count": 55,
   "metadata": {},
   "outputs": [
    {
     "name": "stdout",
     "output_type": "stream",
     "text": [
      " вероятность равна 81.85946141203637%\n"
     ]
    }
   ],
   "source": [
    "# в. от 166 до 190 \n",
    "x1 = 166\n",
    "x2 = 190\n",
    "Z1 = (x1 - a)/std\n",
    "Z2 = (x2 - a)/std\n",
    "P = st.norm.cdf(Z2) - st.norm.cdf(Z1)\n",
    "print(f' вероятность равна {P*100}%')"
   ]
  },
  {
   "cell_type": "code",
   "execution_count": 56,
   "metadata": {},
   "outputs": [
    {
     "name": "stdout",
     "output_type": "stream",
     "text": [
      " вероятность равна 68.26894921370858%\n"
     ]
    }
   ],
   "source": [
    "# г). от 166 см до 182 см (в целом ответ по сигмам = 68%)\n",
    "x1 = 166\n",
    "x2 = 182\n",
    "Z1 = (x1 - a)/std\n",
    "Z2 = (x2 - a)/std\n",
    "P = st.norm.cdf(Z2) - st.norm.cdf(Z1)\n",
    "print(f' вероятность равна {P*100}%')"
   ]
  },
  {
   "cell_type": "code",
   "execution_count": 57,
   "metadata": {},
   "outputs": [
    {
     "name": "stdout",
     "output_type": "stream",
     "text": [
      " вероятность равна 95.44997361036415%\n"
     ]
    }
   ],
   "source": [
    "#  д). от 158 см до 190 см (в целом ответ по 2м сигмам = 95%)\n",
    "x1 = 158\n",
    "x2 = 190\n",
    "Z1 = (x1 - a)/std\n",
    "Z2 = (x2 - a)/std\n",
    "P = st.norm.cdf(Z2) - st.norm.cdf(Z1)\n",
    "print(f' вероятность равна {P*100}%')"
   ]
  },
  {
   "cell_type": "code",
   "execution_count": 58,
   "metadata": {},
   "outputs": [
    {
     "name": "stdout",
     "output_type": "stream",
     "text": [
      " вероятность равна 2.410002997980931%\n"
     ]
    }
   ],
   "source": [
    "#  е). не выше 150 см или не ниже 190 см\n",
    "x1 = 150\n",
    "x2 = 190\n",
    "Z1 = (x1 - a)/std\n",
    "Z2 = (x2 - a)/std\n",
    "P = 1 - (st.norm.cdf(Z2) - st.norm.cdf(Z1))\n",
    "print(f' вероятность равна {P*100}%')"
   ]
  },
  {
   "cell_type": "code",
   "execution_count": 59,
   "metadata": {},
   "outputs": [
    {
     "name": "stdout",
     "output_type": "stream",
     "text": [
      " вероятность равна 0.2699796063260207%\n"
     ]
    }
   ],
   "source": [
    "#  ё). не выше 150 см или не ниже 198 см\n",
    "x1 = 150\n",
    "x2 = 198\n",
    "Z1 = (x1 - a)/std\n",
    "Z2 = (x2 - a)/std\n",
    "P = 1 - (st.norm.cdf(Z2) - st.norm.cdf(Z1))\n",
    "print(f' вероятность равна {P*100}%')"
   ]
  },
  {
   "cell_type": "code",
   "execution_count": 63,
   "metadata": {},
   "outputs": [
    {
     "name": "stdout",
     "output_type": "stream",
     "text": [
      " вероятность равна 15.865525393145708%\n"
     ]
    }
   ],
   "source": [
    "#  ж). ниже 166 см. (минус одна сигма: (1-0.68)/2 = 0.16)\n",
    "x = 166\n",
    "Z = (x - a)/std\n",
    "P = st.norm.cdf(Z)\n",
    "print(f' вероятность равна {P*100}%')"
   ]
  },
  {
   "cell_type": "markdown",
   "metadata": {},
   "source": [
    "### На сколько сигм (средних квадратичных отклонений) отклоняется рост человека, равный 190 см, от математического ожидания роста в популяции, в которой M(X) = 178 см и D(X) = 25 кв.см?"
   ]
  },
  {
   "cell_type": "code",
   "execution_count": 64,
   "metadata": {},
   "outputs": [
    {
     "data": {
      "text/plain": [
       "2.4"
      ]
     },
     "execution_count": 64,
     "metadata": {},
     "output_type": "execute_result"
    }
   ],
   "source": [
    "Z = (190-178)/5\n",
    "Z"
   ]
  }
 ],
 "metadata": {
  "kernelspec": {
   "display_name": "Python 3",
   "language": "python",
   "name": "python3"
  },
  "language_info": {
   "codemirror_mode": {
    "name": "ipython",
    "version": 3
   },
   "file_extension": ".py",
   "mimetype": "text/x-python",
   "name": "python",
   "nbconvert_exporter": "python",
   "pygments_lexer": "ipython3",
   "version": "3.7.6"
  }
 },
 "nbformat": 4,
 "nbformat_minor": 4
}
